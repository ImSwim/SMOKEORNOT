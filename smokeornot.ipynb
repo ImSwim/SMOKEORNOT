{
  "nbformat": 4,
  "nbformat_minor": 0,
  "metadata": {
    "colab": {
      "provenance": []
    },
    "kernelspec": {
      "name": "python3",
      "display_name": "Python 3"
    },
    "language_info": {
      "name": "python"
    }
  },
  "cells": [
    {
      "cell_type": "code",
      "execution_count": null,
      "metadata": {
        "id": "xths1cZb-RMT",
        "colab": {
          "base_uri": "https://localhost:8080/"
        },
        "outputId": "9c3a9e64-8a39-40dc-b5cb-b8e380eb92c1"
      },
      "outputs": [
        {
          "output_type": "stream",
          "name": "stdout",
          "text": [
            "Looking in indexes: https://pypi.org/simple, https://us-python.pkg.dev/colab-wheels/public/simple/\n",
            "Requirement already satisfied: category_encoders in /usr/local/lib/python3.7/dist-packages (2.5.0)\n",
            "Requirement already satisfied: patsy>=0.5.1 in /usr/local/lib/python3.7/dist-packages (from category_encoders) (0.5.2)\n",
            "Requirement already satisfied: pandas>=1.0.5 in /usr/local/lib/python3.7/dist-packages (from category_encoders) (1.3.5)\n",
            "Requirement already satisfied: statsmodels>=0.9.0 in /usr/local/lib/python3.7/dist-packages (from category_encoders) (0.10.2)\n",
            "Requirement already satisfied: numpy>=1.14.0 in /usr/local/lib/python3.7/dist-packages (from category_encoders) (1.21.6)\n",
            "Requirement already satisfied: scikit-learn>=0.20.0 in /usr/local/lib/python3.7/dist-packages (from category_encoders) (1.0.2)\n",
            "Requirement already satisfied: scipy>=1.0.0 in /usr/local/lib/python3.7/dist-packages (from category_encoders) (1.7.3)\n",
            "Requirement already satisfied: pytz>=2017.3 in /usr/local/lib/python3.7/dist-packages (from pandas>=1.0.5->category_encoders) (2022.1)\n",
            "Requirement already satisfied: python-dateutil>=2.7.3 in /usr/local/lib/python3.7/dist-packages (from pandas>=1.0.5->category_encoders) (2.8.2)\n",
            "Requirement already satisfied: six in /usr/local/lib/python3.7/dist-packages (from patsy>=0.5.1->category_encoders) (1.15.0)\n",
            "Requirement already satisfied: joblib>=0.11 in /usr/local/lib/python3.7/dist-packages (from scikit-learn>=0.20.0->category_encoders) (1.1.0)\n",
            "Requirement already satisfied: threadpoolctl>=2.0.0 in /usr/local/lib/python3.7/dist-packages (from scikit-learn>=0.20.0->category_encoders) (3.1.0)\n",
            "Looking in indexes: https://pypi.org/simple, https://us-python.pkg.dev/colab-wheels/public/simple/\n",
            "Requirement already satisfied: catboost in /usr/local/lib/python3.7/dist-packages (1.0.6)\n",
            "Requirement already satisfied: scipy in /usr/local/lib/python3.7/dist-packages (from catboost) (1.7.3)\n",
            "Requirement already satisfied: pandas>=0.24.0 in /usr/local/lib/python3.7/dist-packages (from catboost) (1.3.5)\n",
            "Requirement already satisfied: matplotlib in /usr/local/lib/python3.7/dist-packages (from catboost) (3.2.2)\n",
            "Requirement already satisfied: six in /usr/local/lib/python3.7/dist-packages (from catboost) (1.15.0)\n",
            "Requirement already satisfied: numpy>=1.16.0 in /usr/local/lib/python3.7/dist-packages (from catboost) (1.21.6)\n",
            "Requirement already satisfied: plotly in /usr/local/lib/python3.7/dist-packages (from catboost) (5.5.0)\n",
            "Requirement already satisfied: graphviz in /usr/local/lib/python3.7/dist-packages (from catboost) (0.10.1)\n",
            "Requirement already satisfied: pytz>=2017.3 in /usr/local/lib/python3.7/dist-packages (from pandas>=0.24.0->catboost) (2022.1)\n",
            "Requirement already satisfied: python-dateutil>=2.7.3 in /usr/local/lib/python3.7/dist-packages (from pandas>=0.24.0->catboost) (2.8.2)\n",
            "Requirement already satisfied: cycler>=0.10 in /usr/local/lib/python3.7/dist-packages (from matplotlib->catboost) (0.11.0)\n",
            "Requirement already satisfied: pyparsing!=2.0.4,!=2.1.2,!=2.1.6,>=2.0.1 in /usr/local/lib/python3.7/dist-packages (from matplotlib->catboost) (3.0.9)\n",
            "Requirement already satisfied: kiwisolver>=1.0.1 in /usr/local/lib/python3.7/dist-packages (from matplotlib->catboost) (1.4.4)\n",
            "Requirement already satisfied: typing-extensions in /usr/local/lib/python3.7/dist-packages (from kiwisolver>=1.0.1->matplotlib->catboost) (4.1.1)\n",
            "Requirement already satisfied: tenacity>=6.2.0 in /usr/local/lib/python3.7/dist-packages (from plotly->catboost) (8.0.1)\n"
          ]
        }
      ],
      "source": [
        "# 사용 라이브러리\n",
        "!pip install --target=$my_path category_encoders\n",
        "!pip install --target=$my_path catboost\n",
        "\n",
        "import numpy as np\n",
        "import pandas as pd\n",
        "import seaborn as sns\n",
        "import matplotlib.pyplot as plt\n",
        "import warnings, random\n",
        "warnings.filterwarnings(action='ignore')\n",
        "\n",
        "from sklearn.experimental import enable_iterative_imputer\n",
        "from sklearn.impute import IterativeImputer\n",
        "\n",
        "from sklearn.metrics import log_loss\n",
        "from sklearn.preprocessing import StandardScaler\n",
        "from category_encoders.ordinal import OrdinalEncoder\n",
        "from category_encoders import OneHotEncoder\n",
        "from sklearn.model_selection import StratifiedKFold\n",
        "\n",
        "from sklearn.cluster import KMeans\n",
        "from catboost import CatBoostClassifier, Pool"
      ]
    },
    {
      "cell_type": "code",
      "source": [
        "secom_train = pd.read_csv('train.csv')\n",
        "train = secom_train.copy()\n",
        "secom_test = pd.read_csv('test.csv')\n",
        "test = secom_test.copy()"
      ],
      "metadata": {
        "id": "BWoATmi9BOh7"
      },
      "execution_count": null,
      "outputs": []
    },
    {
      "cell_type": "code",
      "source": [
        "train = train.dropna(subset=['HEAR_LEFT', 'HEAR_RIGHT'])"
      ],
      "metadata": {
        "id": "x8bihEnfgUme"
      },
      "execution_count": null,
      "outputs": []
    },
    {
      "cell_type": "code",
      "source": [
        "train[['HEAR_LEFT', 'HEAR_RIGHT']].describe()"
      ],
      "metadata": {
        "id": "rgy77fWUg4XU",
        "colab": {
          "base_uri": "https://localhost:8080/",
          "height": 300
        },
        "outputId": "9dea83f0-70c9-4826-ee31-1040a91be3cb"
      },
      "execution_count": null,
      "outputs": [
        {
          "output_type": "execute_result",
          "data": {
            "text/plain": [
              "          HEAR_LEFT    HEAR_RIGHT\n",
              "count  99988.000000  99988.000000\n",
              "mean       1.034034      1.032674\n",
              "std        0.181318      0.177783\n",
              "min        1.000000      1.000000\n",
              "25%        1.000000      1.000000\n",
              "50%        1.000000      1.000000\n",
              "75%        1.000000      1.000000\n",
              "max        2.000000      2.000000"
            ],
            "text/html": [
              "\n",
              "  <div id=\"df-10fe45be-e290-4c39-b6d9-4340ce5ec671\">\n",
              "    <div class=\"colab-df-container\">\n",
              "      <div>\n",
              "<style scoped>\n",
              "    .dataframe tbody tr th:only-of-type {\n",
              "        vertical-align: middle;\n",
              "    }\n",
              "\n",
              "    .dataframe tbody tr th {\n",
              "        vertical-align: top;\n",
              "    }\n",
              "\n",
              "    .dataframe thead th {\n",
              "        text-align: right;\n",
              "    }\n",
              "</style>\n",
              "<table border=\"1\" class=\"dataframe\">\n",
              "  <thead>\n",
              "    <tr style=\"text-align: right;\">\n",
              "      <th></th>\n",
              "      <th>HEAR_LEFT</th>\n",
              "      <th>HEAR_RIGHT</th>\n",
              "    </tr>\n",
              "  </thead>\n",
              "  <tbody>\n",
              "    <tr>\n",
              "      <th>count</th>\n",
              "      <td>99988.000000</td>\n",
              "      <td>99988.000000</td>\n",
              "    </tr>\n",
              "    <tr>\n",
              "      <th>mean</th>\n",
              "      <td>1.034034</td>\n",
              "      <td>1.032674</td>\n",
              "    </tr>\n",
              "    <tr>\n",
              "      <th>std</th>\n",
              "      <td>0.181318</td>\n",
              "      <td>0.177783</td>\n",
              "    </tr>\n",
              "    <tr>\n",
              "      <th>min</th>\n",
              "      <td>1.000000</td>\n",
              "      <td>1.000000</td>\n",
              "    </tr>\n",
              "    <tr>\n",
              "      <th>25%</th>\n",
              "      <td>1.000000</td>\n",
              "      <td>1.000000</td>\n",
              "    </tr>\n",
              "    <tr>\n",
              "      <th>50%</th>\n",
              "      <td>1.000000</td>\n",
              "      <td>1.000000</td>\n",
              "    </tr>\n",
              "    <tr>\n",
              "      <th>75%</th>\n",
              "      <td>1.000000</td>\n",
              "      <td>1.000000</td>\n",
              "    </tr>\n",
              "    <tr>\n",
              "      <th>max</th>\n",
              "      <td>2.000000</td>\n",
              "      <td>2.000000</td>\n",
              "    </tr>\n",
              "  </tbody>\n",
              "</table>\n",
              "</div>\n",
              "      <button class=\"colab-df-convert\" onclick=\"convertToInteractive('df-10fe45be-e290-4c39-b6d9-4340ce5ec671')\"\n",
              "              title=\"Convert this dataframe to an interactive table.\"\n",
              "              style=\"display:none;\">\n",
              "        \n",
              "  <svg xmlns=\"http://www.w3.org/2000/svg\" height=\"24px\"viewBox=\"0 0 24 24\"\n",
              "       width=\"24px\">\n",
              "    <path d=\"M0 0h24v24H0V0z\" fill=\"none\"/>\n",
              "    <path d=\"M18.56 5.44l.94 2.06.94-2.06 2.06-.94-2.06-.94-.94-2.06-.94 2.06-2.06.94zm-11 1L8.5 8.5l.94-2.06 2.06-.94-2.06-.94L8.5 2.5l-.94 2.06-2.06.94zm10 10l.94 2.06.94-2.06 2.06-.94-2.06-.94-.94-2.06-.94 2.06-2.06.94z\"/><path d=\"M17.41 7.96l-1.37-1.37c-.4-.4-.92-.59-1.43-.59-.52 0-1.04.2-1.43.59L10.3 9.45l-7.72 7.72c-.78.78-.78 2.05 0 2.83L4 21.41c.39.39.9.59 1.41.59.51 0 1.02-.2 1.41-.59l7.78-7.78 2.81-2.81c.8-.78.8-2.07 0-2.86zM5.41 20L4 18.59l7.72-7.72 1.47 1.35L5.41 20z\"/>\n",
              "  </svg>\n",
              "      </button>\n",
              "      \n",
              "  <style>\n",
              "    .colab-df-container {\n",
              "      display:flex;\n",
              "      flex-wrap:wrap;\n",
              "      gap: 12px;\n",
              "    }\n",
              "\n",
              "    .colab-df-convert {\n",
              "      background-color: #E8F0FE;\n",
              "      border: none;\n",
              "      border-radius: 50%;\n",
              "      cursor: pointer;\n",
              "      display: none;\n",
              "      fill: #1967D2;\n",
              "      height: 32px;\n",
              "      padding: 0 0 0 0;\n",
              "      width: 32px;\n",
              "    }\n",
              "\n",
              "    .colab-df-convert:hover {\n",
              "      background-color: #E2EBFA;\n",
              "      box-shadow: 0px 1px 2px rgba(60, 64, 67, 0.3), 0px 1px 3px 1px rgba(60, 64, 67, 0.15);\n",
              "      fill: #174EA6;\n",
              "    }\n",
              "\n",
              "    [theme=dark] .colab-df-convert {\n",
              "      background-color: #3B4455;\n",
              "      fill: #D2E3FC;\n",
              "    }\n",
              "\n",
              "    [theme=dark] .colab-df-convert:hover {\n",
              "      background-color: #434B5C;\n",
              "      box-shadow: 0px 1px 3px 1px rgba(0, 0, 0, 0.15);\n",
              "      filter: drop-shadow(0px 1px 2px rgba(0, 0, 0, 0.3));\n",
              "      fill: #FFFFFF;\n",
              "    }\n",
              "  </style>\n",
              "\n",
              "      <script>\n",
              "        const buttonEl =\n",
              "          document.querySelector('#df-10fe45be-e290-4c39-b6d9-4340ce5ec671 button.colab-df-convert');\n",
              "        buttonEl.style.display =\n",
              "          google.colab.kernel.accessAllowed ? 'block' : 'none';\n",
              "\n",
              "        async function convertToInteractive(key) {\n",
              "          const element = document.querySelector('#df-10fe45be-e290-4c39-b6d9-4340ce5ec671');\n",
              "          const dataTable =\n",
              "            await google.colab.kernel.invokeFunction('convertToInteractive',\n",
              "                                                     [key], {});\n",
              "          if (!dataTable) return;\n",
              "\n",
              "          const docLinkHtml = 'Like what you see? Visit the ' +\n",
              "            '<a target=\"_blank\" href=https://colab.research.google.com/notebooks/data_table.ipynb>data table notebook</a>'\n",
              "            + ' to learn more about interactive tables.';\n",
              "          element.innerHTML = '';\n",
              "          dataTable['output_type'] = 'display_data';\n",
              "          await google.colab.output.renderOutput(dataTable, element);\n",
              "          const docLink = document.createElement('div');\n",
              "          docLink.innerHTML = docLinkHtml;\n",
              "          element.appendChild(docLink);\n",
              "        }\n",
              "      </script>\n",
              "    </div>\n",
              "  </div>\n",
              "  "
            ]
          },
          "metadata": {},
          "execution_count": 26
        }
      ]
    },
    {
      "cell_type": "code",
      "source": [
        "# 문자형 0과 1로 바꿈\n",
        "train = train.replace('Y', 1)\n",
        "train = train.replace('N', 0)\n",
        "\n",
        "test = test.replace('Y', 1)\n",
        "test = test.replace('N', 0)"
      ],
      "metadata": {
        "id": "HFjGk0sJBOkF"
      },
      "execution_count": null,
      "outputs": []
    },
    {
      "cell_type": "code",
      "source": [
        "# 결측치 예측 함수\n",
        "imputer_mice = IterativeImputer(random_state=83)\n",
        "train = imputer_mice.fit_transform(train)\n",
        "\n",
        "imputer_mice = IterativeImputer(random_state=83)\n",
        "test = imputer_mice.fit_transform(test)"
      ],
      "metadata": {
        "id": "9HPP0x06BOmW"
      },
      "execution_count": null,
      "outputs": []
    },
    {
      "cell_type": "code",
      "source": [
        "# 위 함수로 바뀐거 다시 데이터프레임으로 고침\n",
        "train = pd.DataFrame(train)\n",
        "train.columns = ['ID', 'SEX', 'AGE', 'SIDO', 'HEIGHT', 'WEIGHT', 'WAIST', 'SIGHT_LEFT', 'SIGHT_RIGHT', 'HEAR_LEFT', 'HEAR_RIGHT', 'BP_HIGH', 'BP_LWST', 'BLDS', 'TOT_CHOLE', 'TRIGLYCERIDE', 'HDL_CHOLE', 'LDL_CHOLE', 'HMG', 'OLIG_PROTE', 'CREATININE', 'SGOT_AST', 'SGOT_ALT', 'GAMMA_GTP', 'DRK_YN', 'HCHK_OE_INSPEC_YN', 'CRS_YN', 'TTR_YN', 'SMK_STAT']\n",
        "\n",
        "test = pd.DataFrame(test)\n",
        "test.columns = ['ID', 'SEX', 'AGE', 'SIDO', 'HEIGHT', 'WEIGHT', 'WAIST', 'SIGHT_LEFT', 'SIGHT_RIGHT', 'HEAR_LEFT', 'HEAR_RIGHT', 'BP_HIGH', 'BP_LWST', 'BLDS', 'TOT_CHOLE', 'TRIGLYCERIDE', 'HDL_CHOLE', 'LDL_CHOLE', 'HMG', 'OLIG_PROTE', 'CREATININE', 'SGOT_AST', 'SGOT_ALT', 'GAMMA_GTP', 'DRK_YN', 'HCHK_OE_INSPEC_YN', 'CRS_YN', 'TTR_YN']"
      ],
      "metadata": {
        "id": "hDC0NObDBOoe"
      },
      "execution_count": null,
      "outputs": []
    },
    {
      "cell_type": "code",
      "source": [
        "# 이상치 처리(int값만 없애기 가능, 결측치 있으면 불가)\n",
        "train = train[(train['AGE'] <= 97.5)]\n",
        "train = train[(train['HEIGHT'] <= 192.5)]\n",
        "train = train[(train['WEIGHT'] <= 92.5)]\n",
        "train = train[(train['WAIST'] <= 107.5)]\n",
        "train = train[(train['SIGHT_LEFT'] <= 2.5)]\n",
        "train = train[(train['SIGHT_RIGHT'] <= 2.5)]\n",
        "train = train[(train['BP_HIGH'] <= 159.5)]\n",
        "train = train[(train['BP_LWST'] <= 100.0)]\n",
        "train = train[(train['BLDS'] <= 131.5)]\n",
        "train = train[(train['TOT_CHOLE'] <= 220.0)]\n",
        "train = train[(train['TRIGLYCERIDE'] <= 250.0)]\n",
        "train = train[(train['HDL_CHOLE'] <= 85.0)]\n",
        "train = train[(train['LDL_CHOLE'] <= 133.5)]\n",
        "train = train[(train['HMG'] <= 18.0)]\n",
        "train = train[(train['CREATININE'] <= 2.5)]\n",
        "train = train[(train['SGOT_AST'] <= 44.0)]\n",
        "train = train[(train['SGOT_ALT'] <= 52.5)]\n",
        "train = train[(train['GAMMA_GTP'] <= 78.5)]\n",
        "train = train.reset_index(drop=True)"
      ],
      "metadata": {
        "id": "307l11RfBOqp"
      },
      "execution_count": null,
      "outputs": []
    },
    {
      "cell_type": "code",
      "source": [
        "train.info()"
      ],
      "metadata": {
        "id": "t1qQvIOcBOs6",
        "colab": {
          "base_uri": "https://localhost:8080/"
        },
        "outputId": "495e892f-4393-4f86-8806-745768f9f34f"
      },
      "execution_count": null,
      "outputs": [
        {
          "output_type": "stream",
          "name": "stdout",
          "text": [
            "<class 'pandas.core.frame.DataFrame'>\n",
            "RangeIndex: 66832 entries, 0 to 66831\n",
            "Data columns (total 29 columns):\n",
            " #   Column             Non-Null Count  Dtype  \n",
            "---  ------             --------------  -----  \n",
            " 0   ID                 66832 non-null  float64\n",
            " 1   SEX                66832 non-null  float64\n",
            " 2   AGE                66832 non-null  float64\n",
            " 3   SIDO               66832 non-null  float64\n",
            " 4   HEIGHT             66832 non-null  float64\n",
            " 5   WEIGHT             66832 non-null  float64\n",
            " 6   WAIST              66832 non-null  float64\n",
            " 7   SIGHT_LEFT         66832 non-null  float64\n",
            " 8   SIGHT_RIGHT        66832 non-null  float64\n",
            " 9   HEAR_LEFT          66832 non-null  float64\n",
            " 10  HEAR_RIGHT         66832 non-null  float64\n",
            " 11  BP_HIGH            66832 non-null  float64\n",
            " 12  BP_LWST            66832 non-null  float64\n",
            " 13  BLDS               66832 non-null  float64\n",
            " 14  TOT_CHOLE          66832 non-null  float64\n",
            " 15  TRIGLYCERIDE       66832 non-null  float64\n",
            " 16  HDL_CHOLE          66832 non-null  float64\n",
            " 17  LDL_CHOLE          66832 non-null  float64\n",
            " 18  HMG                66832 non-null  float64\n",
            " 19  OLIG_PROTE         66832 non-null  float64\n",
            " 20  CREATININE         66832 non-null  float64\n",
            " 21  SGOT_AST           66832 non-null  float64\n",
            " 22  SGOT_ALT           66832 non-null  float64\n",
            " 23  GAMMA_GTP          66832 non-null  float64\n",
            " 24  DRK_YN             66832 non-null  float64\n",
            " 25  HCHK_OE_INSPEC_YN  66832 non-null  float64\n",
            " 26  CRS_YN             66832 non-null  float64\n",
            " 27  TTR_YN             66832 non-null  float64\n",
            " 28  SMK_STAT           66832 non-null  float64\n",
            "dtypes: float64(29)\n",
            "memory usage: 14.8 MB\n"
          ]
        }
      ]
    },
    {
      "cell_type": "markdown",
      "source": [
        "# Feature engineering"
      ],
      "metadata": {
        "id": "HNrB0nKgLbCb"
      }
    },
    {
      "cell_type": "code",
      "source": [
        "# 변수 삭제\n",
        "train = train.drop(['ID', 'SIDO', 'HCHK_OE_INSPEC_YN', 'CRS_YN', 'TTR_YN'], axis=1)"
      ],
      "metadata": {
        "id": "DzFZtIFvBOvT"
      },
      "execution_count": null,
      "outputs": []
    },
    {
      "cell_type": "code",
      "source": [
        "test = test.drop(['ID', 'SIDO', 'HCHK_OE_INSPEC_YN', 'CRS_YN', 'TTR_YN'], axis=1)"
      ],
      "metadata": {
        "id": "eZLKs9RyBOxq"
      },
      "execution_count": null,
      "outputs": []
    },
    {
      "cell_type": "code",
      "source": [
        "train.columns"
      ],
      "metadata": {
        "id": "pyOimF4pBO0M",
        "colab": {
          "base_uri": "https://localhost:8080/"
        },
        "outputId": "92d346b2-572f-406d-83fe-2b4002b57727"
      },
      "execution_count": null,
      "outputs": [
        {
          "output_type": "execute_result",
          "data": {
            "text/plain": [
              "Index(['SEX', 'AGE', 'HEIGHT', 'WEIGHT', 'WAIST', 'SIGHT_LEFT', 'SIGHT_RIGHT',\n",
              "       'HEAR_LEFT', 'HEAR_RIGHT', 'BP_HIGH', 'BP_LWST', 'BLDS', 'TOT_CHOLE',\n",
              "       'TRIGLYCERIDE', 'HDL_CHOLE', 'LDL_CHOLE', 'HMG', 'OLIG_PROTE',\n",
              "       'CREATININE', 'SGOT_AST', 'SGOT_ALT', 'GAMMA_GTP', 'DRK_YN',\n",
              "       'SMK_STAT'],\n",
              "      dtype='object')"
            ]
          },
          "metadata": {},
          "execution_count": 34
        }
      ]
    },
    {
      "cell_type": "code",
      "source": [
        "# 중복되는 변수들 새로운 파생변수로 만들기\n",
        "train['BP_AVER'] = (train['BP_HIGH'] + train['BP_LWST'])/2\n",
        "train = train.drop(['BP_HIGH', 'BP_LWST'], axis = 1)\n",
        "\n",
        "train['SGOT_AVER'] = (train['SGOT_AST'] + train['SGOT_ALT'])/2\n",
        "train = train.drop(['SGOT_AST', 'SGOT_ALT'], axis = 1)\n",
        "\n",
        "test['BP_AVER'] = (test['BP_HIGH'] + test['BP_LWST'])/2\n",
        "test = test.drop(['BP_HIGH', 'BP_LWST'], axis = 1)\n",
        "\n",
        "test['SGOT_AVER'] = (test['SGOT_AST'] + test['SGOT_ALT'])/2\n",
        "test = test.drop(['SGOT_AST', 'SGOT_ALT'], axis = 1)"
      ],
      "metadata": {
        "id": "TZgi2kIyBO2n"
      },
      "execution_count": null,
      "outputs": []
    },
    {
      "cell_type": "code",
      "source": [
        "# 시력 변수 하나로\n",
        "train['SIGHT_AVER'] = (train['SIGHT_LEFT'] + train['SIGHT_RIGHT'])/2\n",
        "train = train.drop(['SIGHT_LEFT', 'SIGHT_RIGHT'], axis = 1)"
      ],
      "metadata": {
        "id": "SelSSrPiBO5G"
      },
      "execution_count": null,
      "outputs": []
    },
    {
      "cell_type": "code",
      "source": [
        "test['SIGHT_AVER'] = (test['SIGHT_LEFT'] + test['SIGHT_RIGHT'])/2\n",
        "test = test.drop(['SIGHT_LEFT', 'SIGHT_RIGHT'], axis = 1)"
      ],
      "metadata": {
        "id": "1Q-8wmYBKsN8"
      },
      "execution_count": null,
      "outputs": []
    },
    {
      "cell_type": "code",
      "source": [
        "# 범주형 청력 변수 하나로 만들기 -> 1 정상, 0 비정상\n",
        "train.loc[train['HEAR_LEFT'] == 2, 'HEAR_LEFT'] = 0\n",
        "train.loc[train['HEAR_RIGHT'] == 2, 'HEAR_RIGHT'] = 0\n",
        "\n",
        "train['HEAR'] = train['HEAR_LEFT']*train['HEAR_RIGHT']\n",
        "train = train.drop(['HEAR_LEFT', 'HEAR_RIGHT'], axis = 1)"
      ],
      "metadata": {
        "id": "4xgSEOArBO7q"
      },
      "execution_count": null,
      "outputs": []
    },
    {
      "cell_type": "code",
      "source": [
        "test.loc[test['HEAR_LEFT'] == 2, 'HEAR_LEFT'] = 0\n",
        "test.loc[test['HEAR_RIGHT'] == 2, 'HEAR_RIGHT'] = 0\n",
        "\n",
        "test['HEAR'] = test['HEAR_LEFT']*test['HEAR_RIGHT']\n",
        "test = test.drop(['HEAR_LEFT', 'HEAR_RIGHT'], axis = 1)"
      ],
      "metadata": {
        "id": "SBRztj4ABO-h"
      },
      "execution_count": null,
      "outputs": []
    },
    {
      "cell_type": "code",
      "source": [
        "# Y값 중 2 -> 1로 바꾸기\n",
        "train.loc[train['SMK_STAT'] == 2, 'SMK_STAT'] = 1"
      ],
      "metadata": {
        "id": "B2HcRrjFKxag"
      },
      "execution_count": null,
      "outputs": []
    },
    {
      "cell_type": "code",
      "source": [
        "train.columns"
      ],
      "metadata": {
        "id": "Ph9KxhoMKxfS",
        "colab": {
          "base_uri": "https://localhost:8080/"
        },
        "outputId": "9e351410-d6fa-45bd-bc0d-f6eede6cd94a"
      },
      "execution_count": null,
      "outputs": [
        {
          "output_type": "execute_result",
          "data": {
            "text/plain": [
              "Index(['SEX', 'AGE', 'HEIGHT', 'WEIGHT', 'WAIST', 'BLDS', 'TOT_CHOLE',\n",
              "       'TRIGLYCERIDE', 'HDL_CHOLE', 'LDL_CHOLE', 'HMG', 'OLIG_PROTE',\n",
              "       'CREATININE', 'GAMMA_GTP', 'DRK_YN', 'SMK_STAT', 'BP_AVER', 'SGOT_AVER',\n",
              "       'SIGHT_AVER', 'HEAR'],\n",
              "      dtype='object')"
            ]
          },
          "metadata": {},
          "execution_count": 41
        }
      ]
    },
    {
      "cell_type": "code",
      "source": [
        "train[['SEX', 'DRK_YN', 'SMK_STAT', 'HEAR']] = train[['SEX', 'DRK_YN', 'SMK_STAT', 'HEAR']].astype(dtype='object')"
      ],
      "metadata": {
        "id": "bKAQZzUoKxh5"
      },
      "execution_count": null,
      "outputs": []
    },
    {
      "cell_type": "code",
      "source": [
        "test[['SEX', 'DRK_YN', 'HEAR']] = test[['SEX', 'DRK_YN', 'HEAR']].astype(dtype='object')"
      ],
      "metadata": {
        "id": "xghHlMinM_uj"
      },
      "execution_count": null,
      "outputs": []
    },
    {
      "cell_type": "code",
      "source": [
        "train.info()"
      ],
      "metadata": {
        "id": "T6-x3PBMKxkA",
        "colab": {
          "base_uri": "https://localhost:8080/"
        },
        "outputId": "d650c23b-0127-413e-d8df-8eed92961713"
      },
      "execution_count": null,
      "outputs": [
        {
          "output_type": "stream",
          "name": "stdout",
          "text": [
            "<class 'pandas.core.frame.DataFrame'>\n",
            "RangeIndex: 66832 entries, 0 to 66831\n",
            "Data columns (total 20 columns):\n",
            " #   Column        Non-Null Count  Dtype  \n",
            "---  ------        --------------  -----  \n",
            " 0   SEX           66832 non-null  object \n",
            " 1   AGE           66832 non-null  float64\n",
            " 2   HEIGHT        66832 non-null  float64\n",
            " 3   WEIGHT        66832 non-null  float64\n",
            " 4   WAIST         66832 non-null  float64\n",
            " 5   BLDS          66832 non-null  float64\n",
            " 6   TOT_CHOLE     66832 non-null  float64\n",
            " 7   TRIGLYCERIDE  66832 non-null  float64\n",
            " 8   HDL_CHOLE     66832 non-null  float64\n",
            " 9   LDL_CHOLE     66832 non-null  float64\n",
            " 10  HMG           66832 non-null  float64\n",
            " 11  OLIG_PROTE    66832 non-null  float64\n",
            " 12  CREATININE    66832 non-null  float64\n",
            " 13  GAMMA_GTP     66832 non-null  float64\n",
            " 14  DRK_YN        66832 non-null  object \n",
            " 15  SMK_STAT      66832 non-null  object \n",
            " 16  BP_AVER       66832 non-null  float64\n",
            " 17  SGOT_AVER     66832 non-null  float64\n",
            " 18  SIGHT_AVER    66832 non-null  float64\n",
            " 19  HEAR          66832 non-null  object \n",
            "dtypes: float64(16), object(4)\n",
            "memory usage: 10.2+ MB\n"
          ]
        }
      ]
    },
    {
      "cell_type": "code",
      "source": [
        "numerical_feats = train.dtypes[train.dtypes != \"object\"].index.tolist()\n",
        "categorical_feats = train.dtypes[train.dtypes == \"object\"].index.tolist()"
      ],
      "metadata": {
        "id": "MDDZyKfsnEYU"
      },
      "execution_count": null,
      "outputs": []
    },
    {
      "cell_type": "code",
      "source": [
        "numerical_feats2 = test.dtypes[test.dtypes != \"object\"].index.tolist()\n",
        "categorical_feats2 = test.dtypes[test.dtypes == \"object\"].index.tolist()"
      ],
      "metadata": {
        "id": "zKIq2nIJp52C"
      },
      "execution_count": null,
      "outputs": []
    },
    {
      "cell_type": "code",
      "source": [
        "categorical_feats"
      ],
      "metadata": {
        "id": "ZxsD_74voJBW",
        "colab": {
          "base_uri": "https://localhost:8080/"
        },
        "outputId": "ecd79eb0-d12a-4bae-eb38-e9c005208d3a"
      },
      "execution_count": null,
      "outputs": [
        {
          "output_type": "execute_result",
          "data": {
            "text/plain": [
              "['SEX', 'DRK_YN', 'SMK_STAT', 'HEAR']"
            ]
          },
          "metadata": {},
          "execution_count": 47
        }
      ]
    },
    {
      "cell_type": "code",
      "source": [
        "numerical_feats"
      ],
      "metadata": {
        "id": "UDELzVqdoMNO",
        "colab": {
          "base_uri": "https://localhost:8080/"
        },
        "outputId": "c6a963e4-767d-4570-8f72-605da71c2cd6"
      },
      "execution_count": null,
      "outputs": [
        {
          "output_type": "execute_result",
          "data": {
            "text/plain": [
              "['AGE',\n",
              " 'HEIGHT',\n",
              " 'WEIGHT',\n",
              " 'WAIST',\n",
              " 'BLDS',\n",
              " 'TOT_CHOLE',\n",
              " 'TRIGLYCERIDE',\n",
              " 'HDL_CHOLE',\n",
              " 'LDL_CHOLE',\n",
              " 'HMG',\n",
              " 'OLIG_PROTE',\n",
              " 'CREATININE',\n",
              " 'GAMMA_GTP',\n",
              " 'BP_AVER',\n",
              " 'SGOT_AVER',\n",
              " 'SIGHT_AVER']"
            ]
          },
          "metadata": {},
          "execution_count": 48
        }
      ]
    },
    {
      "cell_type": "code",
      "source": [
        "train[categorical_feats]"
      ],
      "metadata": {
        "id": "gUDyfl37obo9",
        "colab": {
          "base_uri": "https://localhost:8080/",
          "height": 424
        },
        "outputId": "f303479c-3760-4057-80f3-15ad0c1ff48d"
      },
      "execution_count": null,
      "outputs": [
        {
          "output_type": "execute_result",
          "data": {
            "text/plain": [
              "       SEX DRK_YN SMK_STAT HEAR\n",
              "0      2.0    1.0      0.0  1.0\n",
              "1      1.0    0.0      1.0  1.0\n",
              "2      1.0    1.0      1.0  1.0\n",
              "3      1.0    1.0      1.0  1.0\n",
              "4      2.0    1.0      0.0  1.0\n",
              "...    ...    ...      ...  ...\n",
              "66827  2.0    1.0      1.0  1.0\n",
              "66828  1.0    0.0      0.0  1.0\n",
              "66829  1.0    1.0      1.0  1.0\n",
              "66830  2.0    0.0      0.0  1.0\n",
              "66831  2.0    0.0      1.0  1.0\n",
              "\n",
              "[66832 rows x 4 columns]"
            ],
            "text/html": [
              "\n",
              "  <div id=\"df-9ada0eb3-6bd1-4a74-95cb-bd36faa5078b\">\n",
              "    <div class=\"colab-df-container\">\n",
              "      <div>\n",
              "<style scoped>\n",
              "    .dataframe tbody tr th:only-of-type {\n",
              "        vertical-align: middle;\n",
              "    }\n",
              "\n",
              "    .dataframe tbody tr th {\n",
              "        vertical-align: top;\n",
              "    }\n",
              "\n",
              "    .dataframe thead th {\n",
              "        text-align: right;\n",
              "    }\n",
              "</style>\n",
              "<table border=\"1\" class=\"dataframe\">\n",
              "  <thead>\n",
              "    <tr style=\"text-align: right;\">\n",
              "      <th></th>\n",
              "      <th>SEX</th>\n",
              "      <th>DRK_YN</th>\n",
              "      <th>SMK_STAT</th>\n",
              "      <th>HEAR</th>\n",
              "    </tr>\n",
              "  </thead>\n",
              "  <tbody>\n",
              "    <tr>\n",
              "      <th>0</th>\n",
              "      <td>2.0</td>\n",
              "      <td>1.0</td>\n",
              "      <td>0.0</td>\n",
              "      <td>1.0</td>\n",
              "    </tr>\n",
              "    <tr>\n",
              "      <th>1</th>\n",
              "      <td>1.0</td>\n",
              "      <td>0.0</td>\n",
              "      <td>1.0</td>\n",
              "      <td>1.0</td>\n",
              "    </tr>\n",
              "    <tr>\n",
              "      <th>2</th>\n",
              "      <td>1.0</td>\n",
              "      <td>1.0</td>\n",
              "      <td>1.0</td>\n",
              "      <td>1.0</td>\n",
              "    </tr>\n",
              "    <tr>\n",
              "      <th>3</th>\n",
              "      <td>1.0</td>\n",
              "      <td>1.0</td>\n",
              "      <td>1.0</td>\n",
              "      <td>1.0</td>\n",
              "    </tr>\n",
              "    <tr>\n",
              "      <th>4</th>\n",
              "      <td>2.0</td>\n",
              "      <td>1.0</td>\n",
              "      <td>0.0</td>\n",
              "      <td>1.0</td>\n",
              "    </tr>\n",
              "    <tr>\n",
              "      <th>...</th>\n",
              "      <td>...</td>\n",
              "      <td>...</td>\n",
              "      <td>...</td>\n",
              "      <td>...</td>\n",
              "    </tr>\n",
              "    <tr>\n",
              "      <th>66827</th>\n",
              "      <td>2.0</td>\n",
              "      <td>1.0</td>\n",
              "      <td>1.0</td>\n",
              "      <td>1.0</td>\n",
              "    </tr>\n",
              "    <tr>\n",
              "      <th>66828</th>\n",
              "      <td>1.0</td>\n",
              "      <td>0.0</td>\n",
              "      <td>0.0</td>\n",
              "      <td>1.0</td>\n",
              "    </tr>\n",
              "    <tr>\n",
              "      <th>66829</th>\n",
              "      <td>1.0</td>\n",
              "      <td>1.0</td>\n",
              "      <td>1.0</td>\n",
              "      <td>1.0</td>\n",
              "    </tr>\n",
              "    <tr>\n",
              "      <th>66830</th>\n",
              "      <td>2.0</td>\n",
              "      <td>0.0</td>\n",
              "      <td>0.0</td>\n",
              "      <td>1.0</td>\n",
              "    </tr>\n",
              "    <tr>\n",
              "      <th>66831</th>\n",
              "      <td>2.0</td>\n",
              "      <td>0.0</td>\n",
              "      <td>1.0</td>\n",
              "      <td>1.0</td>\n",
              "    </tr>\n",
              "  </tbody>\n",
              "</table>\n",
              "<p>66832 rows × 4 columns</p>\n",
              "</div>\n",
              "      <button class=\"colab-df-convert\" onclick=\"convertToInteractive('df-9ada0eb3-6bd1-4a74-95cb-bd36faa5078b')\"\n",
              "              title=\"Convert this dataframe to an interactive table.\"\n",
              "              style=\"display:none;\">\n",
              "        \n",
              "  <svg xmlns=\"http://www.w3.org/2000/svg\" height=\"24px\"viewBox=\"0 0 24 24\"\n",
              "       width=\"24px\">\n",
              "    <path d=\"M0 0h24v24H0V0z\" fill=\"none\"/>\n",
              "    <path d=\"M18.56 5.44l.94 2.06.94-2.06 2.06-.94-2.06-.94-.94-2.06-.94 2.06-2.06.94zm-11 1L8.5 8.5l.94-2.06 2.06-.94-2.06-.94L8.5 2.5l-.94 2.06-2.06.94zm10 10l.94 2.06.94-2.06 2.06-.94-2.06-.94-.94-2.06-.94 2.06-2.06.94z\"/><path d=\"M17.41 7.96l-1.37-1.37c-.4-.4-.92-.59-1.43-.59-.52 0-1.04.2-1.43.59L10.3 9.45l-7.72 7.72c-.78.78-.78 2.05 0 2.83L4 21.41c.39.39.9.59 1.41.59.51 0 1.02-.2 1.41-.59l7.78-7.78 2.81-2.81c.8-.78.8-2.07 0-2.86zM5.41 20L4 18.59l7.72-7.72 1.47 1.35L5.41 20z\"/>\n",
              "  </svg>\n",
              "      </button>\n",
              "      \n",
              "  <style>\n",
              "    .colab-df-container {\n",
              "      display:flex;\n",
              "      flex-wrap:wrap;\n",
              "      gap: 12px;\n",
              "    }\n",
              "\n",
              "    .colab-df-convert {\n",
              "      background-color: #E8F0FE;\n",
              "      border: none;\n",
              "      border-radius: 50%;\n",
              "      cursor: pointer;\n",
              "      display: none;\n",
              "      fill: #1967D2;\n",
              "      height: 32px;\n",
              "      padding: 0 0 0 0;\n",
              "      width: 32px;\n",
              "    }\n",
              "\n",
              "    .colab-df-convert:hover {\n",
              "      background-color: #E2EBFA;\n",
              "      box-shadow: 0px 1px 2px rgba(60, 64, 67, 0.3), 0px 1px 3px 1px rgba(60, 64, 67, 0.15);\n",
              "      fill: #174EA6;\n",
              "    }\n",
              "\n",
              "    [theme=dark] .colab-df-convert {\n",
              "      background-color: #3B4455;\n",
              "      fill: #D2E3FC;\n",
              "    }\n",
              "\n",
              "    [theme=dark] .colab-df-convert:hover {\n",
              "      background-color: #434B5C;\n",
              "      box-shadow: 0px 1px 3px 1px rgba(0, 0, 0, 0.15);\n",
              "      filter: drop-shadow(0px 1px 2px rgba(0, 0, 0, 0.3));\n",
              "      fill: #FFFFFF;\n",
              "    }\n",
              "  </style>\n",
              "\n",
              "      <script>\n",
              "        const buttonEl =\n",
              "          document.querySelector('#df-9ada0eb3-6bd1-4a74-95cb-bd36faa5078b button.colab-df-convert');\n",
              "        buttonEl.style.display =\n",
              "          google.colab.kernel.accessAllowed ? 'block' : 'none';\n",
              "\n",
              "        async function convertToInteractive(key) {\n",
              "          const element = document.querySelector('#df-9ada0eb3-6bd1-4a74-95cb-bd36faa5078b');\n",
              "          const dataTable =\n",
              "            await google.colab.kernel.invokeFunction('convertToInteractive',\n",
              "                                                     [key], {});\n",
              "          if (!dataTable) return;\n",
              "\n",
              "          const docLinkHtml = 'Like what you see? Visit the ' +\n",
              "            '<a target=\"_blank\" href=https://colab.research.google.com/notebooks/data_table.ipynb>data table notebook</a>'\n",
              "            + ' to learn more about interactive tables.';\n",
              "          element.innerHTML = '';\n",
              "          dataTable['output_type'] = 'display_data';\n",
              "          await google.colab.output.renderOutput(dataTable, element);\n",
              "          const docLink = document.createElement('div');\n",
              "          docLink.innerHTML = docLinkHtml;\n",
              "          element.appendChild(docLink);\n",
              "        }\n",
              "      </script>\n",
              "    </div>\n",
              "  </div>\n",
              "  "
            ]
          },
          "metadata": {},
          "execution_count": 49
        }
      ]
    },
    {
      "cell_type": "code",
      "source": [
        "# OrdinalEncoder으로 범주형 변수들 바꾸기\n",
        "encoder = OrdinalEncoder(categorical_feats)\n",
        "train[categorical_feats] = encoder.fit_transform(train[categorical_feats])"
      ],
      "metadata": {
        "id": "b-4mobScMg8t"
      },
      "execution_count": null,
      "outputs": []
    },
    {
      "cell_type": "code",
      "source": [
        "encoder = OrdinalEncoder(categorical_feats2)\n",
        "test[categorical_feats2] = encoder.fit_transform(test[categorical_feats2])"
      ],
      "metadata": {
        "id": "yaYnxmI_nYn1"
      },
      "execution_count": null,
      "outputs": []
    },
    {
      "cell_type": "code",
      "source": [
        "train.columns"
      ],
      "metadata": {
        "id": "S28cTVccqTrI",
        "colab": {
          "base_uri": "https://localhost:8080/",
          "height": 270
        },
        "outputId": "77b36db6-7e0e-44c3-bbfb-2557eda7ec84"
      },
      "execution_count": null,
      "outputs": [
        {
          "output_type": "execute_result",
          "data": {
            "text/plain": [
              "   SEX       AGE    HEIGHT    WEIGHT     WAIST      BLDS  TOT_CHOLE  \\\n",
              "0    1 -0.822821 -1.297188  0.308852  0.886744  0.295177   1.225667   \n",
              "1    2  0.528096  0.344033  0.755003  0.041304  1.851086   0.144682   \n",
              "2    2 -0.485092  0.344033 -0.137299 -0.514907 -0.137020  -0.583610   \n",
              "3    2  0.528096 -0.203041  0.308852  0.375030 -0.742096   0.237411   \n",
              "4    1  0.190367 -1.297188 -0.137299  0.185919 -0.050581   0.371644   \n",
              "\n",
              "   TRIGLYCERIDE  HDL_CHOLE  LDL_CHOLE       HMG  OLIG_PROTE  CREATININE  \\\n",
              "0      1.987709  -0.411876   0.594341  0.921521   -0.205101    0.291292   \n",
              "1      0.831741  -0.897345   0.292859  0.790255   -0.205101    1.290806   \n",
              "2     -1.234767  -0.699192   0.476575  0.855888   -0.205101    0.791049   \n",
              "3      0.595404  -0.482463   0.247836  0.987153   -0.205101    1.290806   \n",
              "4      0.640819   0.671155  -0.288247 -1.375620   -0.205101   -0.708222   \n",
              "\n",
              "   GAMMA_GTP  DRK_YN  SMK_STAT   BP_AVER  SGOT_AVER  SIGHT_AVER  HEAR  \n",
              "0   1.460628       1         1 -0.395535   1.590796    0.780725     1  \n",
              "1   0.417463       2         2  0.710720   0.430586   -0.492343     1  \n",
              "2  -0.277980       1         2  1.095505   0.575612    0.303324     1  \n",
              "3   1.947438       1         2 -0.299338   0.285560   -0.492343     1  \n",
              "4   0.278375       1         1  2.057465  -0.367058   -0.810610     1  "
            ],
            "text/html": [
              "\n",
              "  <div id=\"df-f4b213c2-8bc4-40e1-a6a5-1d8e8af55abc\">\n",
              "    <div class=\"colab-df-container\">\n",
              "      <div>\n",
              "<style scoped>\n",
              "    .dataframe tbody tr th:only-of-type {\n",
              "        vertical-align: middle;\n",
              "    }\n",
              "\n",
              "    .dataframe tbody tr th {\n",
              "        vertical-align: top;\n",
              "    }\n",
              "\n",
              "    .dataframe thead th {\n",
              "        text-align: right;\n",
              "    }\n",
              "</style>\n",
              "<table border=\"1\" class=\"dataframe\">\n",
              "  <thead>\n",
              "    <tr style=\"text-align: right;\">\n",
              "      <th></th>\n",
              "      <th>SEX</th>\n",
              "      <th>AGE</th>\n",
              "      <th>HEIGHT</th>\n",
              "      <th>WEIGHT</th>\n",
              "      <th>WAIST</th>\n",
              "      <th>BLDS</th>\n",
              "      <th>TOT_CHOLE</th>\n",
              "      <th>TRIGLYCERIDE</th>\n",
              "      <th>HDL_CHOLE</th>\n",
              "      <th>LDL_CHOLE</th>\n",
              "      <th>HMG</th>\n",
              "      <th>OLIG_PROTE</th>\n",
              "      <th>CREATININE</th>\n",
              "      <th>GAMMA_GTP</th>\n",
              "      <th>DRK_YN</th>\n",
              "      <th>SMK_STAT</th>\n",
              "      <th>BP_AVER</th>\n",
              "      <th>SGOT_AVER</th>\n",
              "      <th>SIGHT_AVER</th>\n",
              "      <th>HEAR</th>\n",
              "    </tr>\n",
              "  </thead>\n",
              "  <tbody>\n",
              "    <tr>\n",
              "      <th>0</th>\n",
              "      <td>1</td>\n",
              "      <td>-0.822821</td>\n",
              "      <td>-1.297188</td>\n",
              "      <td>0.308852</td>\n",
              "      <td>0.886744</td>\n",
              "      <td>0.295177</td>\n",
              "      <td>1.225667</td>\n",
              "      <td>1.987709</td>\n",
              "      <td>-0.411876</td>\n",
              "      <td>0.594341</td>\n",
              "      <td>0.921521</td>\n",
              "      <td>-0.205101</td>\n",
              "      <td>0.291292</td>\n",
              "      <td>1.460628</td>\n",
              "      <td>1</td>\n",
              "      <td>1</td>\n",
              "      <td>-0.395535</td>\n",
              "      <td>1.590796</td>\n",
              "      <td>0.780725</td>\n",
              "      <td>1</td>\n",
              "    </tr>\n",
              "    <tr>\n",
              "      <th>1</th>\n",
              "      <td>2</td>\n",
              "      <td>0.528096</td>\n",
              "      <td>0.344033</td>\n",
              "      <td>0.755003</td>\n",
              "      <td>0.041304</td>\n",
              "      <td>1.851086</td>\n",
              "      <td>0.144682</td>\n",
              "      <td>0.831741</td>\n",
              "      <td>-0.897345</td>\n",
              "      <td>0.292859</td>\n",
              "      <td>0.790255</td>\n",
              "      <td>-0.205101</td>\n",
              "      <td>1.290806</td>\n",
              "      <td>0.417463</td>\n",
              "      <td>2</td>\n",
              "      <td>2</td>\n",
              "      <td>0.710720</td>\n",
              "      <td>0.430586</td>\n",
              "      <td>-0.492343</td>\n",
              "      <td>1</td>\n",
              "    </tr>\n",
              "    <tr>\n",
              "      <th>2</th>\n",
              "      <td>2</td>\n",
              "      <td>-0.485092</td>\n",
              "      <td>0.344033</td>\n",
              "      <td>-0.137299</td>\n",
              "      <td>-0.514907</td>\n",
              "      <td>-0.137020</td>\n",
              "      <td>-0.583610</td>\n",
              "      <td>-1.234767</td>\n",
              "      <td>-0.699192</td>\n",
              "      <td>0.476575</td>\n",
              "      <td>0.855888</td>\n",
              "      <td>-0.205101</td>\n",
              "      <td>0.791049</td>\n",
              "      <td>-0.277980</td>\n",
              "      <td>1</td>\n",
              "      <td>2</td>\n",
              "      <td>1.095505</td>\n",
              "      <td>0.575612</td>\n",
              "      <td>0.303324</td>\n",
              "      <td>1</td>\n",
              "    </tr>\n",
              "    <tr>\n",
              "      <th>3</th>\n",
              "      <td>2</td>\n",
              "      <td>0.528096</td>\n",
              "      <td>-0.203041</td>\n",
              "      <td>0.308852</td>\n",
              "      <td>0.375030</td>\n",
              "      <td>-0.742096</td>\n",
              "      <td>0.237411</td>\n",
              "      <td>0.595404</td>\n",
              "      <td>-0.482463</td>\n",
              "      <td>0.247836</td>\n",
              "      <td>0.987153</td>\n",
              "      <td>-0.205101</td>\n",
              "      <td>1.290806</td>\n",
              "      <td>1.947438</td>\n",
              "      <td>1</td>\n",
              "      <td>2</td>\n",
              "      <td>-0.299338</td>\n",
              "      <td>0.285560</td>\n",
              "      <td>-0.492343</td>\n",
              "      <td>1</td>\n",
              "    </tr>\n",
              "    <tr>\n",
              "      <th>4</th>\n",
              "      <td>1</td>\n",
              "      <td>0.190367</td>\n",
              "      <td>-1.297188</td>\n",
              "      <td>-0.137299</td>\n",
              "      <td>0.185919</td>\n",
              "      <td>-0.050581</td>\n",
              "      <td>0.371644</td>\n",
              "      <td>0.640819</td>\n",
              "      <td>0.671155</td>\n",
              "      <td>-0.288247</td>\n",
              "      <td>-1.375620</td>\n",
              "      <td>-0.205101</td>\n",
              "      <td>-0.708222</td>\n",
              "      <td>0.278375</td>\n",
              "      <td>1</td>\n",
              "      <td>1</td>\n",
              "      <td>2.057465</td>\n",
              "      <td>-0.367058</td>\n",
              "      <td>-0.810610</td>\n",
              "      <td>1</td>\n",
              "    </tr>\n",
              "  </tbody>\n",
              "</table>\n",
              "</div>\n",
              "      <button class=\"colab-df-convert\" onclick=\"convertToInteractive('df-f4b213c2-8bc4-40e1-a6a5-1d8e8af55abc')\"\n",
              "              title=\"Convert this dataframe to an interactive table.\"\n",
              "              style=\"display:none;\">\n",
              "        \n",
              "  <svg xmlns=\"http://www.w3.org/2000/svg\" height=\"24px\"viewBox=\"0 0 24 24\"\n",
              "       width=\"24px\">\n",
              "    <path d=\"M0 0h24v24H0V0z\" fill=\"none\"/>\n",
              "    <path d=\"M18.56 5.44l.94 2.06.94-2.06 2.06-.94-2.06-.94-.94-2.06-.94 2.06-2.06.94zm-11 1L8.5 8.5l.94-2.06 2.06-.94-2.06-.94L8.5 2.5l-.94 2.06-2.06.94zm10 10l.94 2.06.94-2.06 2.06-.94-2.06-.94-.94-2.06-.94 2.06-2.06.94z\"/><path d=\"M17.41 7.96l-1.37-1.37c-.4-.4-.92-.59-1.43-.59-.52 0-1.04.2-1.43.59L10.3 9.45l-7.72 7.72c-.78.78-.78 2.05 0 2.83L4 21.41c.39.39.9.59 1.41.59.51 0 1.02-.2 1.41-.59l7.78-7.78 2.81-2.81c.8-.78.8-2.07 0-2.86zM5.41 20L4 18.59l7.72-7.72 1.47 1.35L5.41 20z\"/>\n",
              "  </svg>\n",
              "      </button>\n",
              "      \n",
              "  <style>\n",
              "    .colab-df-container {\n",
              "      display:flex;\n",
              "      flex-wrap:wrap;\n",
              "      gap: 12px;\n",
              "    }\n",
              "\n",
              "    .colab-df-convert {\n",
              "      background-color: #E8F0FE;\n",
              "      border: none;\n",
              "      border-radius: 50%;\n",
              "      cursor: pointer;\n",
              "      display: none;\n",
              "      fill: #1967D2;\n",
              "      height: 32px;\n",
              "      padding: 0 0 0 0;\n",
              "      width: 32px;\n",
              "    }\n",
              "\n",
              "    .colab-df-convert:hover {\n",
              "      background-color: #E2EBFA;\n",
              "      box-shadow: 0px 1px 2px rgba(60, 64, 67, 0.3), 0px 1px 3px 1px rgba(60, 64, 67, 0.15);\n",
              "      fill: #174EA6;\n",
              "    }\n",
              "\n",
              "    [theme=dark] .colab-df-convert {\n",
              "      background-color: #3B4455;\n",
              "      fill: #D2E3FC;\n",
              "    }\n",
              "\n",
              "    [theme=dark] .colab-df-convert:hover {\n",
              "      background-color: #434B5C;\n",
              "      box-shadow: 0px 1px 3px 1px rgba(0, 0, 0, 0.15);\n",
              "      filter: drop-shadow(0px 1px 2px rgba(0, 0, 0, 0.3));\n",
              "      fill: #FFFFFF;\n",
              "    }\n",
              "  </style>\n",
              "\n",
              "      <script>\n",
              "        const buttonEl =\n",
              "          document.querySelector('#df-f4b213c2-8bc4-40e1-a6a5-1d8e8af55abc button.colab-df-convert');\n",
              "        buttonEl.style.display =\n",
              "          google.colab.kernel.accessAllowed ? 'block' : 'none';\n",
              "\n",
              "        async function convertToInteractive(key) {\n",
              "          const element = document.querySelector('#df-f4b213c2-8bc4-40e1-a6a5-1d8e8af55abc');\n",
              "          const dataTable =\n",
              "            await google.colab.kernel.invokeFunction('convertToInteractive',\n",
              "                                                     [key], {});\n",
              "          if (!dataTable) return;\n",
              "\n",
              "          const docLinkHtml = 'Like what you see? Visit the ' +\n",
              "            '<a target=\"_blank\" href=https://colab.research.google.com/notebooks/data_table.ipynb>data table notebook</a>'\n",
              "            + ' to learn more about interactive tables.';\n",
              "          element.innerHTML = '';\n",
              "          dataTable['output_type'] = 'display_data';\n",
              "          await google.colab.output.renderOutput(dataTable, element);\n",
              "          const docLink = document.createElement('div');\n",
              "          docLink.innerHTML = docLinkHtml;\n",
              "          element.appendChild(docLink);\n",
              "        }\n",
              "      </script>\n",
              "    </div>\n",
              "  </div>\n",
              "  "
            ]
          },
          "metadata": {},
          "execution_count": 63
        }
      ]
    },
    {
      "cell_type": "code",
      "source": [
        "# 수치형 변수 스케일링\n",
        "scaler = StandardScaler()\n",
        "train[numerical_feats] = scaler.fit_transform(train[numerical_feats])"
      ],
      "metadata": {
        "id": "t3T2YuT2VrvD"
      },
      "execution_count": null,
      "outputs": []
    },
    {
      "cell_type": "code",
      "source": [
        "scaler = StandardScaler()\n",
        "test[numerical_feats2] = scaler.fit_transform(test[numerical_feats2])"
      ],
      "metadata": {
        "id": "z2DeAZH3Vr1r"
      },
      "execution_count": null,
      "outputs": []
    },
    {
      "cell_type": "code",
      "source": [
        "# 1 비흡연자, 2흡연자\n",
        "train['SMK_STAT'].value_counts()"
      ],
      "metadata": {
        "id": "Yy6X6j95Vr6N",
        "colab": {
          "base_uri": "https://localhost:8080/"
        },
        "outputId": "121eae1d-5b83-4184-ff08-698e3d107672"
      },
      "execution_count": null,
      "outputs": [
        {
          "output_type": "execute_result",
          "data": {
            "text/plain": [
              "1    42717\n",
              "2    24115\n",
              "Name: SMK_STAT, dtype: int64"
            ]
          },
          "metadata": {},
          "execution_count": 55
        }
      ]
    },
    {
      "cell_type": "code",
      "source": [
        "train = pd.DataFrame(train)\n",
        "test = pd.DataFrame(test)"
      ],
      "metadata": {
        "id": "dwVzkajryi2P"
      },
      "execution_count": null,
      "outputs": []
    },
    {
      "cell_type": "markdown",
      "source": [
        "# 모델링"
      ],
      "metadata": {
        "id": "FGrFHt1NxBrl"
      }
    },
    {
      "cell_type": "code",
      "source": [
        "x_data = train.drop('SMK_STAT',axis=1)\n",
        "y_data = train['SMK_STAT']"
      ],
      "metadata": {
        "id": "ni-PLttqw9Ta"
      },
      "execution_count": null,
      "outputs": []
    },
    {
      "cell_type": "code",
      "source": [
        "y_data = pd.DataFrame(y_data)\n",
        "y_data"
      ],
      "metadata": {
        "id": "KZrV5f94zQca",
        "colab": {
          "base_uri": "https://localhost:8080/",
          "height": 424
        },
        "outputId": "d59dedf8-0d38-42a2-fe3d-f6db756d0c34"
      },
      "execution_count": null,
      "outputs": [
        {
          "output_type": "execute_result",
          "data": {
            "text/plain": [
              "       SMK_STAT\n",
              "0             1\n",
              "1             2\n",
              "2             2\n",
              "3             2\n",
              "4             1\n",
              "...         ...\n",
              "66827         2\n",
              "66828         1\n",
              "66829         2\n",
              "66830         1\n",
              "66831         2\n",
              "\n",
              "[66832 rows x 1 columns]"
            ],
            "text/html": [
              "\n",
              "  <div id=\"df-1825eb12-b60a-40e0-8b88-cab10ead1921\">\n",
              "    <div class=\"colab-df-container\">\n",
              "      <div>\n",
              "<style scoped>\n",
              "    .dataframe tbody tr th:only-of-type {\n",
              "        vertical-align: middle;\n",
              "    }\n",
              "\n",
              "    .dataframe tbody tr th {\n",
              "        vertical-align: top;\n",
              "    }\n",
              "\n",
              "    .dataframe thead th {\n",
              "        text-align: right;\n",
              "    }\n",
              "</style>\n",
              "<table border=\"1\" class=\"dataframe\">\n",
              "  <thead>\n",
              "    <tr style=\"text-align: right;\">\n",
              "      <th></th>\n",
              "      <th>SMK_STAT</th>\n",
              "    </tr>\n",
              "  </thead>\n",
              "  <tbody>\n",
              "    <tr>\n",
              "      <th>0</th>\n",
              "      <td>1</td>\n",
              "    </tr>\n",
              "    <tr>\n",
              "      <th>1</th>\n",
              "      <td>2</td>\n",
              "    </tr>\n",
              "    <tr>\n",
              "      <th>2</th>\n",
              "      <td>2</td>\n",
              "    </tr>\n",
              "    <tr>\n",
              "      <th>3</th>\n",
              "      <td>2</td>\n",
              "    </tr>\n",
              "    <tr>\n",
              "      <th>4</th>\n",
              "      <td>1</td>\n",
              "    </tr>\n",
              "    <tr>\n",
              "      <th>...</th>\n",
              "      <td>...</td>\n",
              "    </tr>\n",
              "    <tr>\n",
              "      <th>66827</th>\n",
              "      <td>2</td>\n",
              "    </tr>\n",
              "    <tr>\n",
              "      <th>66828</th>\n",
              "      <td>1</td>\n",
              "    </tr>\n",
              "    <tr>\n",
              "      <th>66829</th>\n",
              "      <td>2</td>\n",
              "    </tr>\n",
              "    <tr>\n",
              "      <th>66830</th>\n",
              "      <td>1</td>\n",
              "    </tr>\n",
              "    <tr>\n",
              "      <th>66831</th>\n",
              "      <td>2</td>\n",
              "    </tr>\n",
              "  </tbody>\n",
              "</table>\n",
              "<p>66832 rows × 1 columns</p>\n",
              "</div>\n",
              "      <button class=\"colab-df-convert\" onclick=\"convertToInteractive('df-1825eb12-b60a-40e0-8b88-cab10ead1921')\"\n",
              "              title=\"Convert this dataframe to an interactive table.\"\n",
              "              style=\"display:none;\">\n",
              "        \n",
              "  <svg xmlns=\"http://www.w3.org/2000/svg\" height=\"24px\"viewBox=\"0 0 24 24\"\n",
              "       width=\"24px\">\n",
              "    <path d=\"M0 0h24v24H0V0z\" fill=\"none\"/>\n",
              "    <path d=\"M18.56 5.44l.94 2.06.94-2.06 2.06-.94-2.06-.94-.94-2.06-.94 2.06-2.06.94zm-11 1L8.5 8.5l.94-2.06 2.06-.94-2.06-.94L8.5 2.5l-.94 2.06-2.06.94zm10 10l.94 2.06.94-2.06 2.06-.94-2.06-.94-.94-2.06-.94 2.06-2.06.94z\"/><path d=\"M17.41 7.96l-1.37-1.37c-.4-.4-.92-.59-1.43-.59-.52 0-1.04.2-1.43.59L10.3 9.45l-7.72 7.72c-.78.78-.78 2.05 0 2.83L4 21.41c.39.39.9.59 1.41.59.51 0 1.02-.2 1.41-.59l7.78-7.78 2.81-2.81c.8-.78.8-2.07 0-2.86zM5.41 20L4 18.59l7.72-7.72 1.47 1.35L5.41 20z\"/>\n",
              "  </svg>\n",
              "      </button>\n",
              "      \n",
              "  <style>\n",
              "    .colab-df-container {\n",
              "      display:flex;\n",
              "      flex-wrap:wrap;\n",
              "      gap: 12px;\n",
              "    }\n",
              "\n",
              "    .colab-df-convert {\n",
              "      background-color: #E8F0FE;\n",
              "      border: none;\n",
              "      border-radius: 50%;\n",
              "      cursor: pointer;\n",
              "      display: none;\n",
              "      fill: #1967D2;\n",
              "      height: 32px;\n",
              "      padding: 0 0 0 0;\n",
              "      width: 32px;\n",
              "    }\n",
              "\n",
              "    .colab-df-convert:hover {\n",
              "      background-color: #E2EBFA;\n",
              "      box-shadow: 0px 1px 2px rgba(60, 64, 67, 0.3), 0px 1px 3px 1px rgba(60, 64, 67, 0.15);\n",
              "      fill: #174EA6;\n",
              "    }\n",
              "\n",
              "    [theme=dark] .colab-df-convert {\n",
              "      background-color: #3B4455;\n",
              "      fill: #D2E3FC;\n",
              "    }\n",
              "\n",
              "    [theme=dark] .colab-df-convert:hover {\n",
              "      background-color: #434B5C;\n",
              "      box-shadow: 0px 1px 3px 1px rgba(0, 0, 0, 0.15);\n",
              "      filter: drop-shadow(0px 1px 2px rgba(0, 0, 0, 0.3));\n",
              "      fill: #FFFFFF;\n",
              "    }\n",
              "  </style>\n",
              "\n",
              "      <script>\n",
              "        const buttonEl =\n",
              "          document.querySelector('#df-1825eb12-b60a-40e0-8b88-cab10ead1921 button.colab-df-convert');\n",
              "        buttonEl.style.display =\n",
              "          google.colab.kernel.accessAllowed ? 'block' : 'none';\n",
              "\n",
              "        async function convertToInteractive(key) {\n",
              "          const element = document.querySelector('#df-1825eb12-b60a-40e0-8b88-cab10ead1921');\n",
              "          const dataTable =\n",
              "            await google.colab.kernel.invokeFunction('convertToInteractive',\n",
              "                                                     [key], {});\n",
              "          if (!dataTable) return;\n",
              "\n",
              "          const docLinkHtml = 'Like what you see? Visit the ' +\n",
              "            '<a target=\"_blank\" href=https://colab.research.google.com/notebooks/data_table.ipynb>data table notebook</a>'\n",
              "            + ' to learn more about interactive tables.';\n",
              "          element.innerHTML = '';\n",
              "          dataTable['output_type'] = 'display_data';\n",
              "          await google.colab.output.renderOutput(dataTable, element);\n",
              "          const docLink = document.createElement('div');\n",
              "          docLink.innerHTML = docLinkHtml;\n",
              "          element.appendChild(docLink);\n",
              "        }\n",
              "      </script>\n",
              "    </div>\n",
              "  </div>\n",
              "  "
            ]
          },
          "metadata": {},
          "execution_count": 58
        }
      ]
    },
    {
      "cell_type": "code",
      "source": [
        "from sklearn.model_selection import train_test_split\n",
        "x_train, x_test, y_train, y_test = train_test_split(x_data, y_data, test_size=0.3, random_state=777) "
      ],
      "metadata": {
        "id": "TfJshHkjzOQS"
      },
      "execution_count": null,
      "outputs": []
    },
    {
      "cell_type": "code",
      "source": [
        "# 데이터 불균형 smote\n",
        "from imblearn.over_sampling import SMOTE\n",
        "\n",
        "smote = SMOTE(random_state = 42)\n",
        "train_over, label_over = smote.fit_resample(x_train, y_train)"
      ],
      "metadata": {
        "id": "VYnATAGcVr8i"
      },
      "execution_count": null,
      "outputs": []
    },
    {
      "cell_type": "code",
      "source": [
        "label_over.value_counts()"
      ],
      "metadata": {
        "id": "BqMzHqWLyb6b",
        "colab": {
          "base_uri": "https://localhost:8080/"
        },
        "outputId": "e8345e7b-5265-42d3-a1b7-5fac4b8ba78b"
      },
      "execution_count": null,
      "outputs": [
        {
          "output_type": "execute_result",
          "data": {
            "text/plain": [
              "SMK_STAT\n",
              "1           29830\n",
              "2           29830\n",
              "dtype: int64"
            ]
          },
          "metadata": {},
          "execution_count": 61
        }
      ]
    },
    {
      "cell_type": "code",
      "source": [
        "from sklearn.model_selection import GridSearchCV\n",
        "from sklearn.ensemble import RandomForestClassifier\n",
        "import numpy as np\n",
        "\n",
        "from sklearn.metrics import f1_score, make_scorer\n",
        "f1 = make_scorer(f1_score , average='macro')\n",
        "\n",
        "# define the parameters grid\n",
        "param_grid = {'max_depth': np.arange(3, 8),\n",
        "             'criterion' : ['gini','entropy'],\n",
        "             'max_leaf_nodes': [5,10,20,50],\n",
        "             'min_samples_split': [2, 5, 10, 20]}\n",
        "\n",
        "# create the grid\n",
        "grid_tree = GridSearchCV(RandomForestClassifier(), param_grid, cv = 5, scoring= 'f1')\n",
        "# the cv option will be clear in a few cells\n",
        "\n",
        "#training\n",
        "grid_tree.fit(x_train, y_train)\n",
        "#let's see the best estimator\n",
        "print(grid_tree.best_estimator_)\n",
        "#with its score\n",
        "print(np.abs(grid_tree.best_score_))"
      ],
      "metadata": {
        "id": "b-FkoNR70Rou",
        "colab": {
          "base_uri": "https://localhost:8080/"
        },
        "outputId": "3dba8fc9-3d14-4a72-a4c4-fa22298c14fa"
      },
      "execution_count": null,
      "outputs": [
        {
          "output_type": "stream",
          "name": "stdout",
          "text": [
            "RandomForestClassifier(max_depth=7, max_leaf_nodes=50, min_samples_split=20)\n",
            "0.8364898353787271\n"
          ]
        }
      ]
    },
    {
      "cell_type": "code",
      "source": [],
      "metadata": {
        "id": "GZh9oDBw0Rip"
      },
      "execution_count": null,
      "outputs": []
    },
    {
      "cell_type": "code",
      "source": [],
      "metadata": {
        "id": "JBLURsdA0Rgi"
      },
      "execution_count": null,
      "outputs": []
    }
  ]
}
